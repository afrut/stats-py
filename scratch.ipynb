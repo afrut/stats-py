{
 "cells": [
  {
   "cell_type": "markdown",
   "metadata": {},
   "source": [
    "Let $x_1$, $x_2$, $\\ldots$, $x_n$ be a random sample from a distribution with mean $\\mu$ and variance $\\sigma^2$. Let <br>\n",
    "\n",
    "<font size=\"4\">\n",
    "    $$\\hat{\\theta}=\\frac{n-1}{n}S^2$$\n",
    "</font>\n",
    "\n",
    "be an estimator for the variance, where $S^2$ is the sample variance. If $n = 26$, $\\mu = 8$, and $\\sigma^2 = 16$, find the mean square error of $\\hat{\\theta}$.<br><br>\n",
    "\n",
    "<font size=\"4\">\n",
    "    \\begin{align}\n",
    "    \\mathrm{MSE}\\left(\\hat{\\theta}\\right) &= \\mathrm{Var}\\left(\\hat{\\theta}\\right) + \\mathrm{bias}\\left(\\hat{\\theta}\\right)^2\\\\\n",
    "    &=\\mathrm{E}\\left(\\hat{\\theta}^2\\right) - \\mathrm{E}\\left(\\hat{\\theta}\\right)^2 + \\mathrm{E}\\left(\\hat{\\theta} - \\theta\\right)^2\\\\\n",
    "    &=\\mathrm{E}\\left(\\left(\\frac{n-1}{n}S^2\\right)^2\\right) - \\mathrm{E}\\left(\\left(\\frac{n-1}{n}\\right)S^2\\right)^2 + \\left(\\mathrm{E}\\left(\\left(\\frac{n-1}{n}\\right)S^2\\right) - \\mathrm{E}\\left(\\sigma^2\\right)\\right)^2\n",
    "    \\end{align}\n",
    "</font>"
   ]
  }
 ],
 "metadata": {
  "kernelspec": {
   "display_name": "Python 3",
   "language": "python",
   "name": "python3"
  },
  "language_info": {
   "codemirror_mode": {
    "name": "ipython",
    "version": 3
   },
   "file_extension": ".py",
   "mimetype": "text/x-python",
   "name": "python",
   "nbconvert_exporter": "python",
   "pygments_lexer": "ipython3",
   "version": "3.8.5"
  }
 },
 "nbformat": 4,
 "nbformat_minor": 4
}
